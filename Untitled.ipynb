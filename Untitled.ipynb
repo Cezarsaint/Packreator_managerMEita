{
 "cells": [
  {
   "cell_type": "code",
   "execution_count": null,
   "id": "f730f689-2cba-422d-bebc-12b44907eccb",
   "metadata": {},
   "outputs": [],
   "source": []
  }
 ],
 "metadata": {
  "kernelspec": {
   "display_name": "Python 3",
   "language": "python",
   "name": "python3"
  },
  "language_info": {
   "name": ""
  }
 },
 "nbformat": 4,
 "nbformat_minor": 5
}
